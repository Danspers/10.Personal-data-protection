{
 "cells": [
  {
   "cell_type": "markdown",
   "metadata": {},
   "source": [
    "# Защита персональных данных клиентов"
   ]
  },
  {
   "cell_type": "markdown",
   "metadata": {},
   "source": [
    "**Описание описание**\n",
    "\n",
    "Необходимо защитить данные клиентов страховой компании «Хоть потоп». Разработать **метод преобразования данных**, чтобы по ним было сложно восстановить **персональную информацию**. Обоснуйте корректность его работы.\n",
    "\n",
    "Следует учитывать, что при преобразовании данных, качество моделей машинного обучения не ухудшилось. _Подбирать наилучшую модель не требуется_."
   ]
  },
  {
   "cell_type": "markdown",
   "metadata": {
    "toc": true
   },
   "source": [
    "<h1>Содержание<span class=\"tocSkip\"></span></h1>\n",
    "<div class=\"toc\"><ul class=\"toc-item\"><li><span><a href=\"#Загрузка-данных\" data-toc-modified-id=\"Загрузка-данных-1\"><span class=\"toc-item-num\">1&nbsp;&nbsp;</span>Загрузка данных</a></span></li>\n",
    "<li><span><a href=\"#Знакомство-и-предобработка-данных\" data-toc-modified-id=\"Знакомство-и-предобработка-данных-2\"><span class=\"toc-item-num\">2&nbsp;&nbsp;</span>Знакомство и предобработка данных</a></span></li>\n",
    "<li><span><a href=\"#Умножение-матриц\" data-toc-modified-id=\"Умножение-матриц-3\"><span class=\"toc-item-num\">3&nbsp;&nbsp;</span>Умножение матриц</a></span></li>\n",
    "<li><span><a href=\"#Алгоритм-преобразования\" data-toc-modified-id=\"Алгоритм-преобразования-4\"><span class=\"toc-item-num\">4&nbsp;&nbsp;</span>Алгоритм преобразования</a></span></li>\n",
    "<li><span><a href=\"#Проверка-алгоритма\" data-toc-modified-id=\"Проверка-алгоритма-5\"><span class=\"toc-item-num\">5&nbsp;&nbsp;</span>Проверка алгоритма</a></span></li>\n",
    "<li><span><a href=\"#Чек-лист-проверки\" data-toc-modified-id=\"Чек-лист-проверки-6\"><span class=\"toc-item-num\">6&nbsp;&nbsp;</span>Чек-лист проверки</a></span></li></ul></div>"
   ]
  },
  {
   "cell_type": "markdown",
   "metadata": {},
   "source": [
    "## Загрузка данных"
   ]
  },
  {
   "cell_type": "code",
   "execution_count": 1,
   "metadata": {},
   "outputs": [],
   "source": [
    "# импорт библиотек\n",
    "import os\n",
    "import numpy as np\n",
    "import pandas as pd\n",
    "import matplotlib.pyplot as plt\n",
    "\n",
    "# импорт спец. модулей\n",
    "from sklearn.metrics import r2_score\n",
    "from sklearn.linear_model import LinearRegression\n",
    "from sklearn.model_selection import train_test_split"
   ]
  },
  {
   "cell_type": "code",
   "execution_count": 2,
   "metadata": {},
   "outputs": [],
   "source": [
    "# адреса расположения файла\n",
    "HOME_PATH = 'datasets\\insurance.csv'\n",
    "SERVER_PATH = '/datasets/insurance.csv'\n",
    "\n",
    "# домашняя версия\n",
    "if os.path.exists(HOME_PATH):\n",
    "    df = pd.read_csv(HOME_PATH,\n",
    "                     dtype={'age':'int64'},\n",
    "                     names=['sex', 'age', 'income', 'members', 'payments'], header=0)\n",
    "    df['income'] = df['income'].astype('int64') # изменение типа данных при чтении файла - не работает, особенность файла\n",
    "\n",
    "# сетевая версия\n",
    "elif os.path.exists(SERVER_PATH):\n",
    "    df = pd.read_csv(SERVER_PATH,\n",
    "                     dtype={'age':'int64'},\n",
    "                     names=['sex', 'age', 'income', 'members', 'payments'], header=0)\n",
    "    df['income'] = df['income'].astype('int64')\n",
    "\n",
    "else:\n",
    "    print('Не удалось прочесть файл. Возможно, был указан неверный путь.')"
   ]
  },
  {
   "cell_type": "markdown",
   "metadata": {},
   "source": [
    "___\n",
    "## Знакомство и предобработка данных"
   ]
  },
  {
   "cell_type": "code",
   "execution_count": 3,
   "metadata": {},
   "outputs": [
    {
     "data": {
      "text/html": [
       "<div>\n",
       "<style scoped>\n",
       "    .dataframe tbody tr th:only-of-type {\n",
       "        vertical-align: middle;\n",
       "    }\n",
       "\n",
       "    .dataframe tbody tr th {\n",
       "        vertical-align: top;\n",
       "    }\n",
       "\n",
       "    .dataframe thead th {\n",
       "        text-align: right;\n",
       "    }\n",
       "</style>\n",
       "<table border=\"1\" class=\"dataframe\">\n",
       "  <thead>\n",
       "    <tr style=\"text-align: right;\">\n",
       "      <th></th>\n",
       "      <th>sex</th>\n",
       "      <th>age</th>\n",
       "      <th>income</th>\n",
       "      <th>members</th>\n",
       "      <th>payments</th>\n",
       "    </tr>\n",
       "  </thead>\n",
       "  <tbody>\n",
       "    <tr>\n",
       "      <th>0</th>\n",
       "      <td>1</td>\n",
       "      <td>41</td>\n",
       "      <td>49600</td>\n",
       "      <td>1</td>\n",
       "      <td>0</td>\n",
       "    </tr>\n",
       "    <tr>\n",
       "      <th>1</th>\n",
       "      <td>0</td>\n",
       "      <td>46</td>\n",
       "      <td>38000</td>\n",
       "      <td>1</td>\n",
       "      <td>1</td>\n",
       "    </tr>\n",
       "    <tr>\n",
       "      <th>2</th>\n",
       "      <td>0</td>\n",
       "      <td>29</td>\n",
       "      <td>21000</td>\n",
       "      <td>0</td>\n",
       "      <td>0</td>\n",
       "    </tr>\n",
       "    <tr>\n",
       "      <th>3</th>\n",
       "      <td>0</td>\n",
       "      <td>21</td>\n",
       "      <td>41700</td>\n",
       "      <td>2</td>\n",
       "      <td>0</td>\n",
       "    </tr>\n",
       "    <tr>\n",
       "      <th>4</th>\n",
       "      <td>1</td>\n",
       "      <td>28</td>\n",
       "      <td>26100</td>\n",
       "      <td>0</td>\n",
       "      <td>0</td>\n",
       "    </tr>\n",
       "  </tbody>\n",
       "</table>\n",
       "</div>"
      ],
      "text/plain": [
       "   sex  age  income  members  payments\n",
       "0    1   41   49600        1         0\n",
       "1    0   46   38000        1         1\n",
       "2    0   29   21000        0         0\n",
       "3    0   21   41700        2         0\n",
       "4    1   28   26100        0         0"
      ]
     },
     "metadata": {},
     "output_type": "display_data"
    },
    {
     "name": "stdout",
     "output_type": "stream",
     "text": [
      "<class 'pandas.core.frame.DataFrame'>\n",
      "RangeIndex: 5000 entries, 0 to 4999\n",
      "Data columns (total 5 columns):\n",
      " #   Column    Non-Null Count  Dtype\n",
      "---  ------    --------------  -----\n",
      " 0   sex       5000 non-null   int64\n",
      " 1   age       5000 non-null   int64\n",
      " 2   income    5000 non-null   int64\n",
      " 3   members   5000 non-null   int64\n",
      " 4   payments  5000 non-null   int64\n",
      "dtypes: int64(5)\n",
      "memory usage: 195.4 KB\n",
      "None\n"
     ]
    }
   ],
   "source": [
    "display(df.head())\n",
    "print(df.info())"
   ]
  },
  {
   "cell_type": "markdown",
   "metadata": {},
   "source": [
    "**Описание данных:**\n",
    "- `sex` - пол клиента\n",
    "- `age` - возраст клиента (диапазон 18-65 лет)\n",
    "- `income` - доход/зарплата (знач. в рос.руб., ₽)\n",
    "- `members` - кол-во членов семьи\n",
    "- `payments` - кол-во страховых выплат клиенту за последние 5 лет. (целевой признак)"
   ]
  },
  {
   "cell_type": "code",
   "execution_count": 4,
   "metadata": {},
   "outputs": [
    {
     "name": "stdout",
     "output_type": "stream",
     "text": [
      "Возможные значения для колонки \"пол\":  [1 0]\n",
      "Возможное кол-во страховых выплат:     [0, 1, 2, 3, 4, 5]\n",
      "Возможное кол-во членов семьи клиента: [0, 1, 2, 3, 4, 5, 6]\n",
      "Возростной диапазон клиентов:          18 - 65 лет.\n",
      "Диапазон значений дохода клиентов:     5300₽ - 79000₽ \n",
      "\n"
     ]
    }
   ],
   "source": [
    "# контроль аномалий\n",
    "print('Возможные значения для колонки \"пол\": ', df['sex'].unique())\n",
    "print('Возможное кол-во страховых выплат:    ', sorted(df['payments'].unique()))\n",
    "print('Возможное кол-во членов семьи клиента:', sorted(df['members'].unique()))\n",
    "print(f'Возрастной диапазон клиентов:          {df[\"age\"].min()} - {df[\"age\"].max()} лет.')\n",
    "print(f'Диапазон значений дохода клиентов:     {df[\"income\"].min()}₽ - {df[\"income\"].max()}₽ \\n')"
   ]
  },
  {
   "cell_type": "code",
   "execution_count": 5,
   "metadata": {},
   "outputs": [
    {
     "data": {
      "text/html": [
       "<div>\n",
       "<style scoped>\n",
       "    .dataframe tbody tr th:only-of-type {\n",
       "        vertical-align: middle;\n",
       "    }\n",
       "\n",
       "    .dataframe tbody tr th {\n",
       "        vertical-align: top;\n",
       "    }\n",
       "\n",
       "    .dataframe thead th {\n",
       "        text-align: right;\n",
       "    }\n",
       "</style>\n",
       "<table border=\"1\" class=\"dataframe\">\n",
       "  <thead>\n",
       "    <tr style=\"text-align: right;\">\n",
       "      <th></th>\n",
       "      <th>sex</th>\n",
       "      <th>age</th>\n",
       "      <th>income</th>\n",
       "      <th>members</th>\n",
       "      <th>payments</th>\n",
       "    </tr>\n",
       "  </thead>\n",
       "  <tbody>\n",
       "    <tr>\n",
       "      <th>3</th>\n",
       "      <td>0</td>\n",
       "      <td>21</td>\n",
       "      <td>41700</td>\n",
       "      <td>2</td>\n",
       "      <td>0</td>\n",
       "    </tr>\n",
       "    <tr>\n",
       "      <th>24</th>\n",
       "      <td>0</td>\n",
       "      <td>21</td>\n",
       "      <td>40400</td>\n",
       "      <td>3</td>\n",
       "      <td>0</td>\n",
       "    </tr>\n",
       "    <tr>\n",
       "      <th>52</th>\n",
       "      <td>1</td>\n",
       "      <td>29</td>\n",
       "      <td>42400</td>\n",
       "      <td>0</td>\n",
       "      <td>0</td>\n",
       "    </tr>\n",
       "    <tr>\n",
       "      <th>59</th>\n",
       "      <td>1</td>\n",
       "      <td>30</td>\n",
       "      <td>49900</td>\n",
       "      <td>1</td>\n",
       "      <td>0</td>\n",
       "    </tr>\n",
       "    <tr>\n",
       "      <th>63</th>\n",
       "      <td>0</td>\n",
       "      <td>32</td>\n",
       "      <td>43800</td>\n",
       "      <td>1</td>\n",
       "      <td>0</td>\n",
       "    </tr>\n",
       "    <tr>\n",
       "      <th>...</th>\n",
       "      <td>...</td>\n",
       "      <td>...</td>\n",
       "      <td>...</td>\n",
       "      <td>...</td>\n",
       "      <td>...</td>\n",
       "    </tr>\n",
       "    <tr>\n",
       "      <th>4793</th>\n",
       "      <td>1</td>\n",
       "      <td>24</td>\n",
       "      <td>37800</td>\n",
       "      <td>0</td>\n",
       "      <td>0</td>\n",
       "    </tr>\n",
       "    <tr>\n",
       "      <th>4902</th>\n",
       "      <td>1</td>\n",
       "      <td>35</td>\n",
       "      <td>38700</td>\n",
       "      <td>1</td>\n",
       "      <td>0</td>\n",
       "    </tr>\n",
       "    <tr>\n",
       "      <th>4935</th>\n",
       "      <td>1</td>\n",
       "      <td>19</td>\n",
       "      <td>32700</td>\n",
       "      <td>0</td>\n",
       "      <td>0</td>\n",
       "    </tr>\n",
       "    <tr>\n",
       "      <th>4945</th>\n",
       "      <td>1</td>\n",
       "      <td>21</td>\n",
       "      <td>45800</td>\n",
       "      <td>0</td>\n",
       "      <td>0</td>\n",
       "    </tr>\n",
       "    <tr>\n",
       "      <th>4965</th>\n",
       "      <td>0</td>\n",
       "      <td>22</td>\n",
       "      <td>40100</td>\n",
       "      <td>1</td>\n",
       "      <td>0</td>\n",
       "    </tr>\n",
       "  </tbody>\n",
       "</table>\n",
       "<p>300 rows × 5 columns</p>\n",
       "</div>"
      ],
      "text/plain": [
       "      sex  age  income  members  payments\n",
       "3       0   21   41700        2         0\n",
       "24      0   21   40400        3         0\n",
       "52      1   29   42400        0         0\n",
       "59      1   30   49900        1         0\n",
       "63      0   32   43800        1         0\n",
       "...   ...  ...     ...      ...       ...\n",
       "4793    1   24   37800        0         0\n",
       "4902    1   35   38700        1         0\n",
       "4935    1   19   32700        0         0\n",
       "4945    1   21   45800        0         0\n",
       "4965    0   22   40100        1         0\n",
       "\n",
       "[300 rows x 5 columns]"
      ]
     },
     "metadata": {},
     "output_type": "display_data"
    },
    {
     "name": "stdout",
     "output_type": "stream",
     "text": [
      "Среди 5000 встречаются 300 клиентов одинаковых по всем признакам (или 6.0% от общего числа)\n",
      "\n"
     ]
    }
   ],
   "source": [
    "# контроль дубликатов объектов\n",
    "display(df[df.duplicated(keep=False)])\n",
    "dup_count = df.duplicated(keep=False).sum()\n",
    "print(f'Среди {len(df)} встречаются {dup_count} клиентов одинаковых по всем признакам',\n",
    "      '(или {:.1%} от общего числа)\\n'.format(dup_count/len(df)))"
   ]
  },
  {
   "cell_type": "code",
   "execution_count": 6,
   "metadata": {},
   "outputs": [
    {
     "data": {
      "image/png": "[encoded data removed]",
      "text/plain": [
       "<Figure size 432x288 with 1 Axes>"
      ]
     },
     "metadata": {},
     "output_type": "display_data"
    }
   ],
   "source": [
    "# распределение полов\n",
    "plt.title('График распределения клиентов по половому признаку')\n",
    "plt.pie(df['sex'].value_counts(),\n",
    "        labels=['женщины', 'мужчины'],\n",
    "        autopct='%1.1f%%',\n",
    "        startangle=90,\n",
    "        shadow=True,\n",
    "        radius=1.25)\n",
    "plt.show()"
   ]
  },
  {
   "cell_type": "code",
   "execution_count": 7,
   "metadata": {},
   "outputs": [
    {
     "data": {
      "image/png": "[encoded data removed]",
      "text/plain": [
       "<Figure size 792x432 with 1 Axes>"
      ]
     },
     "metadata": {
      "needs_background": "light"
     },
     "output_type": "display_data"
    }
   ],
   "source": [
    "# распределение возрастов\n",
    "age_distribution = df['age'].value_counts().to_frame().reset_index().sort_values(by='index')\n",
    "age_distribution.plot(x='index', y='age', grid=True, figsize=(11, 6), legend=False,\n",
    "                      title='График распределения количества клиентов по возрасту',\n",
    "                      ylabel='Количество клиентов',\n",
    "                      xlabel='Возраст клиентов, лет')\n",
    "plt.show()"
   ]
  },
  {
   "cell_type": "code",
   "execution_count": 8,
   "metadata": {},
   "outputs": [
    {
     "data": {
      "image/png": "[encoded data removed]",
      "text/plain": [
       "<Figure size 1224x432 with 2 Axes>"
      ]
     },
     "metadata": {
      "needs_background": "light"
     },
     "output_type": "display_data"
    }
   ],
   "source": [
    "# распределение выплат\n",
    "fig, axs = plt.subplots(1, 2, figsize=(17, 6))\n",
    "axs[0].hist(df.loc[df['payments']==0, 'payments'], bins=11, range=(-0.25, 5.25))\n",
    "axs[0].hist(df.loc[df['payments']>=1, 'payments'], bins=11, range=(-0.25, 5.25), color='orange')\n",
    "axs[0].set_title('График распределения клиентов по кол-ву выплат (Общий)')\n",
    "axs[0].set_ylabel('Количество клиентов')\n",
    "axs[0].set_xlabel('Количество выплат')\n",
    "axs[0].grid()\n",
    "\n",
    "axs[1].hist(df.loc[df['payments']==0, 'payments'], bins=11, range=(-0.25, 5.25))\n",
    "axs[1].hist(df.loc[df['payments']>=1, 'payments'], bins=11, range=(-0.25, 5.25), color='orange')\n",
    "axs[1].set_title('График распределения клиентов по кол-ву выплат (увеличенный x10)')\n",
    "axs[1].set_ylabel('Количество клиентов (0 - 450)')\n",
    "axs[1].set_xlabel('Количество выплат')\n",
    "axs[1].set_ylim(0, 450)\n",
    "axs[1].grid()\n",
    "plt.show()"
   ]
  },
  {
   "cell_type": "code",
   "execution_count": 9,
   "metadata": {},
   "outputs": [
    {
     "data": {
      "image/png": "[encoded data removed]",
      "text/plain": [
       "<Figure size 792x792 with 2 Axes>"
      ]
     },
     "metadata": {
      "needs_background": "light"
     },
     "output_type": "display_data"
    }
   ],
   "source": [
    "# распределение доходов\n",
    "income_distribution = df['income'].value_counts().to_frame().reset_index().sort_values(by='index')\n",
    "fig, axs = plt.subplots(2, 1, figsize=(11, 11))\n",
    "\n",
    "axs[0].plot('index', 'income', data=income_distribution)\n",
    "axs[0].set_title('Графики распределения клиентов по размеру дохода')\n",
    "axs[0].set_ylabel('Количество клиентов')\n",
    "axs[0].set_xlabel('Доход клиентов, ₽')\n",
    "axs[0].grid()\n",
    "\n",
    "axs[1].boxplot(df['income'], vert=False, labels=[''])\n",
    "axs[1].xaxis.tick_top()\n",
    "axs[1].grid()\n",
    "plt.show()"
   ]
  },
  {
   "cell_type": "markdown",
   "metadata": {},
   "source": [
    "**Вывод:**\n",
    "- пропуски - отсутствуют,\n",
    "- тип данных - соответствует,\n",
    "- аномальные значения - отсутствуют,\n",
    "- явные дубликаты встречаются в количестве (6%) - это могут быть совпадение. При таком небольшом количестве это возможно.\n",
    "___"
   ]
  },
  {
   "cell_type": "markdown",
   "metadata": {},
   "source": [
    "<a id='task'></a>\n",
    "## Умножение матриц"
   ]
  },
  {
   "cell_type": "markdown",
   "metadata": {},
   "source": [
    "**Задача:** Признаки умножают на обратимую матрицу. Изменится ли качество линейной регрессии?\n",
    "- **a.** Изменится. Приведите примеры матриц.\n",
    "- **b.** Не изменится. Указать, как связаны параметры линейной регрессии в исходной задаче и в преобразованной."
   ]
  },
  {
   "cell_type": "markdown",
   "metadata": {},
   "source": [
    "**Обозначения**:\n",
    "\n",
    "- $X$ — матрица признаков $(5, 5000)$ (нулевой столбец состоит из единиц)\n",
    "\n",
    "- $y$ — вектор целевого признака\n",
    "\n",
    "- $P$ — квадратная обратимая матрица $(5, 5)$, на которую умножаются признаки\n",
    "\n",
    "- $w$ — вектор весов линейной регрессии (нулевой элемент равен сдвигу $w_0$)\n",
    "\n",
    "Предсказания в векторном виде:\n",
    "$$\n",
    "a = Xw\n",
    "$$\n",
    "\n",
    "Задача обучения:\n",
    "$$\n",
    "w = \\arg\\min_w MSE(Xw, y)\n",
    "$$\n",
    "\n",
    "Формула обучения (вектора весов):\n",
    "$$\n",
    "w = \\Bigl( X^{T}X \\Bigl)^{-1} X^T y\n",
    "$$"
   ]
  },
  {
   "cell_type": "markdown",
   "metadata": {},
   "source": [
    "**Ответ:** **b.** Не изменится, т.к. в процессе вычисления вектора предсказания $a$, матрица $Р$ умножается на свою обратную матрицу $Р^{-1}$, сокращаясь до единичной матрицы $E$.\n",
    "\n",
    "<a id='confirmation'></a>\n",
    "\n",
    "**Обоснование:** Составлю систему уравнений, состоящую из: задачи предсказания в векторном виде и формулы вектора весов, где матрица предсказаний $Х$ уже домножена на матрицу $Р$:\n",
    "\n",
    "\\begin{cases}\n",
    "    a = (XP)w \\\\\n",
    "    w = \\Bigl((XP)^T (XP)\\Bigl)^{-1} (XP)^T \\times y\n",
    "\\end{cases}\n",
    "\n",
    "подставлю вектор весов $w$ в формулу вектора предсказаний: $a$:\n",
    "\n",
    "$$\n",
    "a = (XP) \\Bigl((XP)^T (XP)\\Bigl)^{-1} (XP)^T \\times y\n",
    "$$\n",
    "\n",
    "воспользуюсь с-ом транспонированных матриц $(А B)^{T} = B^{T} A^{T}$:\n",
    "\n",
    "$$\n",
    "a = (XP) \\Bigl(P^{T}X^{T} (XP)\\Bigl)^{-1} P^{T}X^{T} \\times y\n",
    "$$\n",
    "\n",
    "воспользуюсь с-ом умножения матриц (**ассоциативность**):\n",
    "\n",
    "$$\n",
    "a = (XP) \\Bigl(P^{T}(X^{T}X)P\\Bigl)^{-1} P^{T}X^{T} \\times y\n",
    "$$\n",
    "\n",
    "воспользуюсь с-ом обратных матриц $(А B)^{-1} = B^{-1} A^{-1}$:\n",
    "\n",
    "$$\n",
    "a = (XP) P^{-1} \\Bigl((X^{T}X)\\Bigl)^{-1} (P^{T})^{-1} P^{T}X^{T} \\times y\n",
    "$$\n",
    "\n",
    "снова воспользуюсь с-ом **ассоциативности**:\n",
    "\n",
    "$$\n",
    "a = X(PP^{-1}) \\Bigl((X^{T}X)\\Bigl)^{-1} ((P^{T})^{-1} P^{T}) X^{T} \\times y\n",
    "$$\n",
    "\n",
    "\n",
    "воспользуюсь с-ом обратных матриц $AA^{-1} = A^{-1}A = E$:\n",
    "\n",
    "$$\n",
    "a = X E \\Bigl((X^{T}X)\\Bigl)^{-1} E X^{T} \\times y\n",
    "$$\n",
    "\n",
    "и т.к. $AE = EA = A$, то:\n",
    "\n",
    "$$\n",
    "a = X \\Bigl( X^{T}X \\Bigl)^{-1} X^{T} y\n",
    "$$\n",
    "\n",
    "**Вывод:** умножение матрицы признаков $Х$ на квадратную, обратимую матрицу $Р$ - не изменяет значения вектора предсказаний $a$.\n",
    "___"
   ]
  },
  {
   "cell_type": "markdown",
   "metadata": {},
   "source": [
    "## Алгоритм преобразования"
   ]
  },
  {
   "cell_type": "markdown",
   "metadata": {},
   "source": [
    "Алгоритм представляет собой умножения матрицы признаков $X$ на некоторую матрицу $P$, отвечающая следующим требованиям:\n",
    "\n",
    "- матрица должны быть квадратной\n",
    "- ширина/высота матрицы $P$ должны ровняться ширине матрицы $Х$ (т.е. размерность $P$ определяться количеством признаков)\n",
    "- для матрицы $P$ должна существовать обратная матрица $P^{-1}$\n",
    "\n",
    "При матричном умножении $(X \\times P)$ результатом является новая матрица $Х_{new}$, размерность которой равна размерности исходной матрицы $X$. Таким образом значения признаком будут закодирован как произвольной набор чисел, а матрица $P$ будет являться ключем для кодирования/декодирования.\n",
    "\n",
    "$$Х_{new} = (X \\times P)$$\n",
    "\n",
    "**Обоснование:** умножение матрицы признаков $Х$ на квадратную, обратимую матрицу $Р$ - не изменяет значения вектора предсказаний $a$. (Подробное математическое обоснование описано в [предыдущем разделе](#confirmation))"
   ]
  },
  {
   "cell_type": "markdown",
   "metadata": {},
   "source": [
    "**Техническая реализации алгоритма:**\n",
    "1. для воспроизводимости эксперимента были зафиксированы условия с помощь `np.random.seed()`\n",
    "2. генерирование произвольной матрицы $P$, значения которой целые числа в диапазоне $[1; 9]$, включительно.\n",
    "3. контроль обратимости созданной матрицы $P$ (используется свойство: $AA^{-1} = E$)\n",
    "4. выполнение матричного умножения между $X$ (из аргумента функции) и $P$.\n",
    "\n",
    "Ниже приведён пример кодирования единичной матрицы $E$ размером $(5, 5)$."
   ]
  },
  {
   "cell_type": "code",
   "execution_count": 10,
   "metadata": {},
   "outputs": [
    {
     "name": "stdout",
     "output_type": "stream",
     "text": [
      "Исходная единичная матрица E (5, 5):\n",
      " [[1. 0. 0. 0. 0.]\n",
      " [0. 1. 0. 0. 0.]\n",
      " [0. 0. 1. 0. 0.]\n",
      " [0. 0. 0. 1. 0.]\n",
      " [0. 0. 0. 0. 1.]]\n",
      "\n",
      "Закодированная матрица:\n",
      " [[3. 6. 2. 5. 6.]\n",
      " [3. 2. 7. 2. 8.]\n",
      " [7. 1. 3. 2. 3.]\n",
      " [7. 8. 8. 8. 9.]\n",
      " [8. 2. 8. 5. 1.]]\n"
     ]
    }
   ],
   "source": [
    "def encoding(X):\n",
    "    np.random.seed(42)\n",
    "    P = np.random.randint(low=1, high=10, size=(X.shape[1], X.shape[1]))\n",
    "    P_inv = np.linalg.inv(P)\n",
    "    if np.allclose(np.dot(P, P_inv), np.eye(P.shape[1])):\n",
    "        X_new = X.dot(P)\n",
    "    return X_new\n",
    "\n",
    "print('Исходная единичная матрица E (5, 5):\\n', np.eye(5))\n",
    "print('\\nЗакодированная матрица:\\n', encoding(np.eye(5)))"
   ]
  },
  {
   "cell_type": "markdown",
   "metadata": {},
   "source": [
    "_Примечания_:\n",
    "\n",
    "Каждый элемент матрицы $P$ равный 0 - уменьшает вариативность кодирования, т.к. при в матричном умножении некоторые элементы матрицы не будут участвовать в формировании новых значений закодированной матрицы $Х_{new}$. По этой причине ноль не входит в диапазон возможных значений. При необходимости, вариативность можно увеличить задав более высокий предел диапазона значений матрицы $P$.\n",
    "\n",
    "___"
   ]
  },
  {
   "cell_type": "markdown",
   "metadata": {},
   "source": [
    "## Проверка алгоритма"
   ]
  },
  {
   "cell_type": "markdown",
   "metadata": {},
   "source": [
    "Поскольку основные выражения для _обучения_ и _предсказаний_ линейно регрессии были описаны в [исходном задании проекта](#task), и они же использовались для математического обоснования принципа работы алгоритма, их же стоит использовать и при проверки работоспособности алгоритма для бóльшей наглядности. Но согласно заданию, я буду использовать уже готовую модель линейной регрессии из библиотеки **sklearn**, благо она базируется на тех же математических выражениях.\n",
    "\n",
    "Отличия до и после преобразования оцениваются с помощью метрики **R2**."
   ]
  },
  {
   "cell_type": "code",
   "execution_count": 11,
   "metadata": {},
   "outputs": [
    {
     "name": "stdout",
     "output_type": "stream",
     "text": [
      "Метрика R2 до кодирования признаков:    0.425\n",
      "Метрика R2 после кодирования признаков: 0.425\n"
     ]
    }
   ],
   "source": [
    "# выделение признаков\n",
    "target = df['payments']\n",
    "features = df.drop('payments', axis=1)\n",
    "\n",
    "# оценка модели до кодирования    \n",
    "model = LinearRegression()\n",
    "model.fit(features, target)\n",
    "predictions = model.predict(features)\n",
    "print('Метрика R2 до кодирования признаков:    {:.3}'.format(r2_score(target, predictions)))\n",
    "\n",
    "# оценка модели после кодирования\n",
    "new_features = encoding(features)\n",
    "model.fit(new_features, target)\n",
    "new_predictions = model.predict(new_features)\n",
    "print('Метрика R2 после кодирования признаков: {:.3}'.format(r2_score(target, new_predictions)))"
   ]
  },
  {
   "cell_type": "markdown",
   "metadata": {},
   "source": [
    "**ИТОГ:**\n",
    "На практике разница в качестве предсказаний \"до\" и \"после\" - отсутствует. Следовательно, кодирование данных с помощью \"матричного умножения\" не влияет на предсказания модели. Стоит учитывать, что кодирование данных должно происходить до обучения модели.\n",
    "\n",
    "Алгоритм применим и для другого кол-ва признаков. Для матрицы $P$ можно задать собственную уникальную комбинацию значений, которая станет выполнять роль _ключа_ к кодированию/декодированию данных. Для декодирования матрицы признаков её необходимо умножить на обратную матрицу $P^{-1}$. _Ключ_ можно передавать и использовать между несколькими сотрудниками.\n",
    "\n",
    "___"
   ]
  },
  {
   "cell_type": "markdown",
   "metadata": {},
   "source": [
    "## Чек-лист проверки"
   ]
  },
  {
   "cell_type": "markdown",
   "metadata": {},
   "source": [
    "- [x]  Весь код выполняется без ошибок\n",
    "- [x]  Ячейки с кодом расположены в порядке исполнения\n",
    "- [x]  Выполнен шаг 1: данные загружены\n",
    "- [x]  Выполнен шаг 2: получен ответ на вопрос об умножении матриц\n",
    "    - [x]  Указан правильный вариант ответа\n",
    "    - [x]  Вариант обоснован\n",
    "- [x]  Выполнен шаг 3: предложен алгоритм преобразования\n",
    "    - [x]  Алгоритм описан\n",
    "    - [x]  Алгоритм обоснован\n",
    "- [x]  Выполнен шаг 4: алгоритм проверен\n",
    "    - [x]  Алгоритм реализован\n",
    "    - [x]  Проведено сравнение качества моделей до и после преобразования"
   ]
  }
 ],
 "metadata": {
  "ExecuteTimeLog": [
   {
    "duration": 146,
    "start_time": "2023-02-14T20:56:23.049Z"
   },
   {
    "duration": 1622,
    "start_time": "2023-02-14T22:25:02.899Z"
   },
   {
    "duration": 138,
    "start_time": "2023-02-14T22:25:06.490Z"
   },
   {
    "duration": 31,
    "start_time": "2023-02-14T22:25:11.631Z"
   },
   {
    "duration": 8,
    "start_time": "2023-02-14T22:25:16.752Z"
   },
   {
    "duration": 16,
    "start_time": "2023-02-14T22:25:18.151Z"
   },
   {
    "duration": 127,
    "start_time": "2023-02-14T22:25:19.252Z"
   },
   {
    "duration": 161,
    "start_time": "2023-02-14T22:25:20.802Z"
   },
   {
    "duration": 362,
    "start_time": "2023-02-14T22:25:22.051Z"
   },
   {
    "duration": 282,
    "start_time": "2023-02-14T22:25:23.753Z"
   },
   {
    "duration": 288,
    "start_time": "2023-02-14T22:25:31.750Z"
   },
   {
    "duration": 1478,
    "start_time": "2023-02-14T22:43:42.781Z"
   },
   {
    "duration": 65,
    "start_time": "2023-02-14T22:43:44.261Z"
   },
   {
    "duration": 31,
    "start_time": "2023-02-14T22:43:44.327Z"
   },
   {
    "duration": 16,
    "start_time": "2023-02-14T22:43:44.360Z"
   },
   {
    "duration": 26,
    "start_time": "2023-02-14T22:43:44.378Z"
   },
   {
    "duration": 142,
    "start_time": "2023-02-14T22:43:44.406Z"
   },
   {
    "duration": 170,
    "start_time": "2023-02-14T22:43:44.550Z"
   },
   {
    "duration": 437,
    "start_time": "2023-02-14T22:43:44.722Z"
   },
   {
    "duration": 308,
    "start_time": "2023-02-14T22:43:45.162Z"
   },
   {
    "duration": 12,
    "start_time": "2023-02-14T22:43:45.472Z"
   },
   {
    "duration": 253,
    "start_time": "2023-02-14T22:43:45.486Z"
   }
  ],
  "kernelspec": {
   "display_name": "Python 3",
   "language": "python",
   "name": "python3"
  },
  "language_info": {
   "codemirror_mode": {
    "name": "ipython",
    "version": 3
   },
   "file_extension": ".py",
   "mimetype": "text/x-python",
   "name": "python",
   "nbconvert_exporter": "python",
   "pygments_lexer": "ipython3",
   "version": "3.8.8"
  },
  "toc": {
   "base_numbering": 1,
   "nav_menu": {},
   "number_sections": true,
   "sideBar": true,
   "skip_h1_title": true,
   "title_cell": "Содержание",
   "title_sidebar": "Contents",
   "toc_cell": true,
   "toc_position": {
    "height": "calc(100% - 180px)",
    "left": "10px",
    "top": "150px",
    "width": "165px"
   },
   "toc_section_display": true,
   "toc_window_display": true
  }
 },
 "nbformat": 4,
 "nbformat_minor": 2
}
